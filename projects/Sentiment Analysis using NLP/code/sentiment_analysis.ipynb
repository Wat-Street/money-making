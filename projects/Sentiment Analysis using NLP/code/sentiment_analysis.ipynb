{
 "cells": [
  {
   "cell_type": "code",
   "execution_count": 1,
   "metadata": {},
   "outputs": [],
   "source": [
    "import requests\n",
    "import pandas as pd\n",
    "import tweepy\n",
    "import re\n",
    "import nltk\n",
    "from nltk.corpus import stopwords\n",
    "from nltk.stem.wordnet import WordNetLemmatizer\n",
    "from sklearn.preprocessing import LabelEncoder\n",
    "from sklearn.model_selection import train_test_split\n",
    "from sklearn.feature_extraction.text import TfidfVectorizer\n",
    "from keras.models import Sequential\n",
    "from keras.layers import Dense, Embedding, LSTM\n",
    "from keras.preprocessing.sequence import pad_sequences\n",
    "from keras.preprocessing.text import Tokenizer\n",
    "from sklearn.metrics import classification_report, confusion_matrix\n",
    "import matplotlib.pyplot as plt\n"
   ]
  },
  {
   "cell_type": "code",
   "execution_count": 2,
   "metadata": {},
   "outputs": [],
   "source": [
    "#pip install tweepy"
   ]
  },
  {
   "cell_type": "code",
   "execution_count": 3,
   "metadata": {},
   "outputs": [],
   "source": [
    "ticker = \"AAPL\""
   ]
  },
  {
   "cell_type": "code",
   "execution_count": 4,
   "metadata": {},
   "outputs": [],
   "source": [
    "\n",
    "url = 'https://www.alphavantage.co/query?function=NEWS_SENTIMENT&tickers={}&sort=LATEST&limit=1000&apikey=4FACKAH9964BVDDK'.format(ticker)\n",
    "r = requests.get(url)\n",
    "data = r.json()\n",
    "\n",
    "#print(data)\n",
    "#print(url)"
   ]
  },
  {
   "cell_type": "code",
   "execution_count": 5,
   "metadata": {},
   "outputs": [
    {
     "name": "stdout",
     "output_type": "stream",
     "text": [
      "The world's best-performing tech stocks have bled an average $125 billion market cap per day for the past 20 days while crypto market cap has risen 11%.\n"
     ]
    }
   ],
   "source": [
    "print(data[\"feed\"][0]['summary'])"
   ]
  },
  {
   "cell_type": "code",
   "execution_count": 6,
   "metadata": {},
   "outputs": [],
   "source": [
    "\n",
    "summaries_list = []\n",
    "\n",
    "for item in range(len(data[\"feed\"])):\n",
    "    summaries_list.append(data[\"feed\"][item]['summary'])\n",
    "\n",
    "\n",
    "summaries_df = pd.DataFrame(summaries_list, columns=['Summary'])\n",
    "\n",
    "\n"
   ]
  },
  {
   "cell_type": "code",
   "execution_count": 7,
   "metadata": {},
   "outputs": [
    {
     "data": {
      "text/html": [
       "<div>\n",
       "<style scoped>\n",
       "    .dataframe tbody tr th:only-of-type {\n",
       "        vertical-align: middle;\n",
       "    }\n",
       "\n",
       "    .dataframe tbody tr th {\n",
       "        vertical-align: top;\n",
       "    }\n",
       "\n",
       "    .dataframe thead th {\n",
       "        text-align: right;\n",
       "    }\n",
       "</style>\n",
       "<table border=\"1\" class=\"dataframe\">\n",
       "  <thead>\n",
       "    <tr style=\"text-align: right;\">\n",
       "      <th></th>\n",
       "      <th>Summary</th>\n",
       "    </tr>\n",
       "  </thead>\n",
       "  <tbody>\n",
       "    <tr>\n",
       "      <th>0</th>\n",
       "      <td>The world's best-performing tech stocks have b...</td>\n",
       "    </tr>\n",
       "    <tr>\n",
       "      <th>1</th>\n",
       "      <td>Leading cryptocurrencies edged lower Tuesday a...</td>\n",
       "    </tr>\n",
       "    <tr>\n",
       "      <th>2</th>\n",
       "      <td>Advanced Micro Devices Inc. AMD witnessed a si...</td>\n",
       "    </tr>\n",
       "    <tr>\n",
       "      <th>3</th>\n",
       "      <td>Deepwater Asset Management's Managing Partner ...</td>\n",
       "    </tr>\n",
       "    <tr>\n",
       "      <th>4</th>\n",
       "      <td>Now down 24% from its high, is it time to poun...</td>\n",
       "    </tr>\n",
       "    <tr>\n",
       "      <th>...</th>\n",
       "      <td>...</td>\n",
       "    </tr>\n",
       "    <tr>\n",
       "      <th>678</th>\n",
       "      <td>Apple faces scrutiny from the European Union f...</td>\n",
       "    </tr>\n",
       "    <tr>\n",
       "      <th>679</th>\n",
       "      <td>Logitech (LOGI) expands its music-related devi...</td>\n",
       "    </tr>\n",
       "    <tr>\n",
       "      <th>680</th>\n",
       "      <td>Sirius XM (SIRI) expands its content with The ...</td>\n",
       "    </tr>\n",
       "    <tr>\n",
       "      <th>681</th>\n",
       "      <td>Amazon.com Inc AMZN stock just hit a dazzling ...</td>\n",
       "    </tr>\n",
       "    <tr>\n",
       "      <th>682</th>\n",
       "      <td>Taiwan Semiconductor Manufacturing Co TSM has ...</td>\n",
       "    </tr>\n",
       "  </tbody>\n",
       "</table>\n",
       "<p>683 rows × 1 columns</p>\n",
       "</div>"
      ],
      "text/plain": [
       "                                               Summary\n",
       "0    The world's best-performing tech stocks have b...\n",
       "1    Leading cryptocurrencies edged lower Tuesday a...\n",
       "2    Advanced Micro Devices Inc. AMD witnessed a si...\n",
       "3    Deepwater Asset Management's Managing Partner ...\n",
       "4    Now down 24% from its high, is it time to poun...\n",
       "..                                                 ...\n",
       "678  Apple faces scrutiny from the European Union f...\n",
       "679  Logitech (LOGI) expands its music-related devi...\n",
       "680  Sirius XM (SIRI) expands its content with The ...\n",
       "681  Amazon.com Inc AMZN stock just hit a dazzling ...\n",
       "682  Taiwan Semiconductor Manufacturing Co TSM has ...\n",
       "\n",
       "[683 rows x 1 columns]"
      ]
     },
     "execution_count": 7,
     "metadata": {},
     "output_type": "execute_result"
    }
   ],
   "source": [
    "summaries_df"
   ]
  },
  {
   "cell_type": "code",
   "execution_count": 8,
   "metadata": {},
   "outputs": [
    {
     "data": {
      "text/plain": [
       "Summary    The world's best-performing tech stocks have b...\n",
       "Name: 0, dtype: object"
      ]
     },
     "execution_count": 8,
     "metadata": {},
     "output_type": "execute_result"
    }
   ],
   "source": [
    "summaries_df.iloc[0]"
   ]
  },
  {
   "cell_type": "code",
   "execution_count": 9,
   "metadata": {},
   "outputs": [
    {
     "name": "stderr",
     "output_type": "stream",
     "text": [
      "[nltk_data] Downloading package stopwords to\n",
      "[nltk_data]     C:\\Users\\rajup\\AppData\\Roaming\\nltk_data...\n",
      "[nltk_data]   Package stopwords is already up-to-date!\n",
      "[nltk_data] Downloading package wordnet to\n",
      "[nltk_data]     C:\\Users\\rajup\\AppData\\Roaming\\nltk_data...\n",
      "[nltk_data]   Package wordnet is already up-to-date!\n",
      "[nltk_data] Downloading package omw-1.4 to\n",
      "[nltk_data]     C:\\Users\\rajup\\AppData\\Roaming\\nltk_data...\n",
      "[nltk_data]   Package omw-1.4 is already up-to-date!\n"
     ]
    },
    {
     "data": {
      "text/plain": [
       "True"
      ]
     },
     "execution_count": 9,
     "metadata": {},
     "output_type": "execute_result"
    }
   ],
   "source": [
    "nltk.download('stopwords')\n",
    "nltk.download('wordnet')\n",
    "nltk.download('omw-1.4')"
   ]
  },
  {
   "cell_type": "code",
   "execution_count": 10,
   "metadata": {},
   "outputs": [],
   "source": [
    "stop_words = set(stopwords.words('english'))\n"
   ]
  },
  {
   "cell_type": "code",
   "execution_count": 11,
   "metadata": {},
   "outputs": [],
   "source": [
    "#cleaning up text\n",
    "\n",
    "def pre_process(text):\n",
    "    \n",
    "    text=text.lower()\n",
    "\n",
    "    text = re.sub(r'\\w+:\\/{2}[\\d\\w-]+(\\.[\\d\\w-]+)*(?:(?:\\/[^\\s/]*))*', '', text,  flags=re.MULTILINE)\n",
    "    \n",
    "    text=re.sub(\"&lt;/?.*?&gt;\",\" &lt;&gt; \",text)\n",
    "    \n",
    "    text=re.sub(\"(\\\\d|\\\\W)+\",\" \",text)\n",
    "\n",
    "    text = text.split()\n",
    "    \n",
    "    text = [word for word in text if word not in stop_words]\n",
    "\n",
    "    text = [word for word in text if len(word) >= 3]\n",
    "\n",
    "    lmtzr = WordNetLemmatizer()\n",
    "\n",
    "    text = [lmtzr.lemmatize(word) for word in text]\n",
    "    \n",
    "    return ' '.join(text)"
   ]
  },
  {
   "cell_type": "code",
   "execution_count": 12,
   "metadata": {},
   "outputs": [],
   "source": [
    "summaries_df['Summary'] = summaries_df['Summary'].apply(pre_process)"
   ]
  },
  {
   "cell_type": "code",
   "execution_count": 13,
   "metadata": {},
   "outputs": [
    {
     "data": {
      "text/plain": [
       "Summary    world best performing tech stock bled average ...\n",
       "Name: 0, dtype: object"
      ]
     },
     "execution_count": 13,
     "metadata": {},
     "output_type": "execute_result"
    }
   ],
   "source": [
    "summaries_df.iloc[0]"
   ]
  },
  {
   "cell_type": "code",
   "execution_count": 14,
   "metadata": {},
   "outputs": [],
   "source": [
    "# API_key = 'qqufydlOQGZZhNukvPYswgVIm'\n",
    "# API_secret = 'rB0jbJIQSap17yFSjfA0ETLb8gAlILRruK4uzlANfMxI8uqLKN'\n",
    "# access_token = '1765544832573784064-VEyKLhMpvO9qF7bKsV8PcvOMcelgmk'\n",
    "# access_token_secret = 'bZ389swg9L1uhP0qnd55LpMQNZz9Ew1emMWrEypQL5Z2R'\n",
    "\n",
    "# auth = tweepy.OAuth1UserHandler(API_key, API_secret, access_token, access_token_secret)\n",
    "# api = tweepy.API(auth, wait_on_rate_limit=True)\n",
    "\n",
    "\n",
    "# search_query = \"'AAPL'-filter:retweets AND -filter:replies AND -filter:links\"\n",
    "# print(search_query)\n",
    "# tweets = tweepy.Cursor(api.search_tweets, q=search_query).items(10)\n",
    "\n",
    "# # for tweet in tweets:\n",
    "# #     print(tweet.text)\n",
    "# #     print('------')\n",
    "\n",
    "\n",
    "\n",
    "# tweets = api.search_tweets(q = search_query, lang = 'en', count = 10, tweet_mode = 'extended')\n",
    "\n",
    "# attributes = [[tweet.user.name, tweet.created_at, tweet.favourite_count, tweet.source, tweet.full_text] for tweet in tweets]\n",
    "\n",
    "# cols = [\"User\", \"Date created\", \"Number of likes\", \"Source of tweet\", \"Tweet\"]\n",
    "\n",
    "# df = pd.DataFrame(attributes, columns = cols)\n",
    "\n",
    "# # except:\n",
    "# #     print(\"error\")\n",
    "\n",
    "# for tweet in tweets:\n",
    "#     print(tweet.full_text)"
   ]
  },
  {
   "cell_type": "code",
   "execution_count": 15,
   "metadata": {},
   "outputs": [],
   "source": [
    "# url = \"https://newsapi.org/v2/top-headlines\"\n",
    "\n",
    "# params = {\n",
    "#     \"q\": \"apple\",\n",
    "#     \"apiKey\": \"b5df7b6c5f6a47a78f11b4716a5bfb06\"\n",
    "# }\n",
    "\n",
    "# response = requests.get(url, params=params)\n",
    "\n",
    "# print(response.json())"
   ]
  },
  {
   "cell_type": "code",
   "execution_count": 16,
   "metadata": {},
   "outputs": [],
   "source": [
    "from datasets import load_dataset\n",
    "\n",
    "dataset = load_dataset(\"zeroshot/twitter-financial-news-sentiment\")"
   ]
  },
  {
   "cell_type": "code",
   "execution_count": 17,
   "metadata": {},
   "outputs": [
    {
     "name": "stdout",
     "output_type": "stream",
     "text": [
      "2\n"
     ]
    }
   ],
   "source": [
    "print(len(dataset))\n"
   ]
  },
  {
   "cell_type": "code",
   "execution_count": 18,
   "metadata": {},
   "outputs": [
    {
     "name": "stdout",
     "output_type": "stream",
     "text": [
      "                                                    text  label\n",
      "0             bynd jpmorgan reel expectation beyond meat      0\n",
      "1      ccl rcl nomura point booking weakness carnival...      0\n",
      "2      cemex cut credit suisse morgan weak building o...      0\n",
      "3                           es btig research cut neutral      0\n",
      "4                     fnko funko slide piper jaffray cut      0\n",
      "...                                                  ...    ...\n",
      "11926  stock making biggest move midday ameritrade ti...      2\n",
      "11927  stock making biggest move premarket fitbit xer...      2\n",
      "11928  stock making biggest move premarket home depot...      2\n",
      "11929  stock making biggest move premarket ameritrade...      2\n",
      "11930                   tco nnvc gpor among midday mover      2\n",
      "\n",
      "[11931 rows x 2 columns]\n"
     ]
    }
   ],
   "source": [
    "#getting training data from zeroshot/twitter-financial-news-sentiment\n",
    "\n",
    "source1_data = []\n",
    "for i in range(len(dataset['train'])):\n",
    "    source1_data.append({'text': dataset['train'][i]['text'], 'label': dataset['train'][i]['label']})\n",
    "    \n",
    "\n",
    "for i in range(len(dataset['validation'])):\n",
    "\n",
    "    source1_data.append({'text': dataset['validation'][i]['text'], 'label': dataset['validation'][i]['label']})\n",
    "source_1_df = pd.DataFrame(source1_data)\n",
    "\n",
    "\n",
    "source_1_df['text'] = source_1_df['text'].apply(pre_process)\n",
    "\n",
    "print(source_1_df)\n"
   ]
  },
  {
   "cell_type": "code",
   "execution_count": 19,
   "metadata": {},
   "outputs": [],
   "source": [
    "#getting training data from sentiment.csv found online\n",
    "\n",
    "source_2_data = pd.read_csv(\"sentiment.csv\")"
   ]
  },
  {
   "cell_type": "code",
   "execution_count": 20,
   "metadata": {},
   "outputs": [
    {
     "data": {
      "text/html": [
       "<div>\n",
       "<style scoped>\n",
       "    .dataframe tbody tr th:only-of-type {\n",
       "        vertical-align: middle;\n",
       "    }\n",
       "\n",
       "    .dataframe tbody tr th {\n",
       "        vertical-align: top;\n",
       "    }\n",
       "\n",
       "    .dataframe thead th {\n",
       "        text-align: right;\n",
       "    }\n",
       "</style>\n",
       "<table border=\"1\" class=\"dataframe\">\n",
       "  <thead>\n",
       "    <tr style=\"text-align: right;\">\n",
       "      <th></th>\n",
       "      <th>Stock Ticker</th>\n",
       "      <th>Tweet Text</th>\n",
       "      <th>Sentiment</th>\n",
       "      <th>Tweet URL</th>\n",
       "    </tr>\n",
       "  </thead>\n",
       "  <tbody>\n",
       "    <tr>\n",
       "      <th>0</th>\n",
       "      <td>$TSLA</td>\n",
       "      <td>Ruh-roh, *someone's* first ex wife is dancing ...</td>\n",
       "      <td>Negative</td>\n",
       "      <td>https://twitter.com/MelaynaLokosky/status/1526...</td>\n",
       "    </tr>\n",
       "    <tr>\n",
       "      <th>1</th>\n",
       "      <td>$PARA</td>\n",
       "      <td>Nice 9% pre market move for $para, pump my cal...</td>\n",
       "      <td>Positive</td>\n",
       "      <td>https://twitter.com/option_oracle/status/15264...</td>\n",
       "    </tr>\n",
       "    <tr>\n",
       "      <th>2</th>\n",
       "      <td>$HD</td>\n",
       "      <td>I'm an investor in $LOW, but I have no problem...</td>\n",
       "      <td>Positive</td>\n",
       "      <td>https://twitter.com/scottsinvesting/status/152...</td>\n",
       "    </tr>\n",
       "    <tr>\n",
       "      <th>3</th>\n",
       "      <td>$TSLA</td>\n",
       "      <td>Everyone knew you would back out of the deal w...</td>\n",
       "      <td>Negative</td>\n",
       "      <td>https://twitter.com/Barnacules/status/15264897...</td>\n",
       "    </tr>\n",
       "    <tr>\n",
       "      <th>4</th>\n",
       "      <td>$TSLA</td>\n",
       "      <td>SELL EVERYTHING, BUY $TSLA 🚀🌕</td>\n",
       "      <td>Positive</td>\n",
       "      <td>https://twitter.com/valueanalyst1/status/15255...</td>\n",
       "    </tr>\n",
       "  </tbody>\n",
       "</table>\n",
       "</div>"
      ],
      "text/plain": [
       "  Stock Ticker                                         Tweet Text Sentiment  \\\n",
       "0        $TSLA  Ruh-roh, *someone's* first ex wife is dancing ...  Negative   \n",
       "1        $PARA  Nice 9% pre market move for $para, pump my cal...  Positive   \n",
       "2          $HD  I'm an investor in $LOW, but I have no problem...  Positive   \n",
       "3        $TSLA  Everyone knew you would back out of the deal w...  Negative   \n",
       "4        $TSLA                      SELL EVERYTHING, BUY $TSLA 🚀🌕  Positive   \n",
       "\n",
       "                                           Tweet URL  \n",
       "0  https://twitter.com/MelaynaLokosky/status/1526...  \n",
       "1  https://twitter.com/option_oracle/status/15264...  \n",
       "2  https://twitter.com/scottsinvesting/status/152...  \n",
       "3  https://twitter.com/Barnacules/status/15264897...  \n",
       "4  https://twitter.com/valueanalyst1/status/15255...  "
      ]
     },
     "execution_count": 20,
     "metadata": {},
     "output_type": "execute_result"
    }
   ],
   "source": [
    "source_2_data.head()"
   ]
  },
  {
   "cell_type": "code",
   "execution_count": 21,
   "metadata": {},
   "outputs": [
    {
     "data": {
      "text/html": [
       "<div>\n",
       "<style scoped>\n",
       "    .dataframe tbody tr th:only-of-type {\n",
       "        vertical-align: middle;\n",
       "    }\n",
       "\n",
       "    .dataframe tbody tr th {\n",
       "        vertical-align: top;\n",
       "    }\n",
       "\n",
       "    .dataframe thead th {\n",
       "        text-align: right;\n",
       "    }\n",
       "</style>\n",
       "<table border=\"1\" class=\"dataframe\">\n",
       "  <thead>\n",
       "    <tr style=\"text-align: right;\">\n",
       "      <th></th>\n",
       "      <th>text</th>\n",
       "      <th>label</th>\n",
       "    </tr>\n",
       "  </thead>\n",
       "  <tbody>\n",
       "    <tr>\n",
       "      <th>0</th>\n",
       "      <td>Ruh-roh, *someone's* first ex wife is dancing ...</td>\n",
       "      <td>Negative</td>\n",
       "    </tr>\n",
       "    <tr>\n",
       "      <th>1</th>\n",
       "      <td>Nice 9% pre market move for $para, pump my cal...</td>\n",
       "      <td>Positive</td>\n",
       "    </tr>\n",
       "    <tr>\n",
       "      <th>2</th>\n",
       "      <td>I'm an investor in $LOW, but I have no problem...</td>\n",
       "      <td>Positive</td>\n",
       "    </tr>\n",
       "    <tr>\n",
       "      <th>3</th>\n",
       "      <td>Everyone knew you would back out of the deal w...</td>\n",
       "      <td>Negative</td>\n",
       "    </tr>\n",
       "    <tr>\n",
       "      <th>4</th>\n",
       "      <td>SELL EVERYTHING, BUY $TSLA 🚀🌕</td>\n",
       "      <td>Positive</td>\n",
       "    </tr>\n",
       "    <tr>\n",
       "      <th>...</th>\n",
       "      <td>...</td>\n",
       "      <td>...</td>\n",
       "    </tr>\n",
       "    <tr>\n",
       "      <th>495</th>\n",
       "      <td>$NVDA beautifully bullish</td>\n",
       "      <td>Positive</td>\n",
       "    </tr>\n",
       "    <tr>\n",
       "      <th>496</th>\n",
       "      <td>$IDRA +58% \\r\\n\"According to topline data, SLN...</td>\n",
       "      <td>Positive</td>\n",
       "    </tr>\n",
       "    <tr>\n",
       "      <th>497</th>\n",
       "      <td>Replying to \\r\\n@NewsoftheMarket\\r\\ncheck out ...</td>\n",
       "      <td>Positive</td>\n",
       "    </tr>\n",
       "    <tr>\n",
       "      <th>498</th>\n",
       "      <td>I’ve noticed a clear trend the past year: FB n...</td>\n",
       "      <td>Negative</td>\n",
       "    </tr>\n",
       "    <tr>\n",
       "      <th>499</th>\n",
       "      <td>Don’t sleep on $F!</td>\n",
       "      <td>Positive</td>\n",
       "    </tr>\n",
       "  </tbody>\n",
       "</table>\n",
       "<p>500 rows × 2 columns</p>\n",
       "</div>"
      ],
      "text/plain": [
       "                                                  text     label\n",
       "0    Ruh-roh, *someone's* first ex wife is dancing ...  Negative\n",
       "1    Nice 9% pre market move for $para, pump my cal...  Positive\n",
       "2    I'm an investor in $LOW, but I have no problem...  Positive\n",
       "3    Everyone knew you would back out of the deal w...  Negative\n",
       "4                        SELL EVERYTHING, BUY $TSLA 🚀🌕  Positive\n",
       "..                                                 ...       ...\n",
       "495                          $NVDA beautifully bullish  Positive\n",
       "496  $IDRA +58% \\r\\n\"According to topline data, SLN...  Positive\n",
       "497  Replying to \\r\\n@NewsoftheMarket\\r\\ncheck out ...  Positive\n",
       "498  I’ve noticed a clear trend the past year: FB n...  Negative\n",
       "499                                 Don’t sleep on $F!  Positive\n",
       "\n",
       "[500 rows x 2 columns]"
      ]
     },
     "execution_count": 21,
     "metadata": {},
     "output_type": "execute_result"
    }
   ],
   "source": [
    "\n",
    "source_2_df = pd.DataFrame(source_2_data)\n",
    "source_2_df.drop(columns = ['Stock Ticker', 'Tweet URL'], inplace=True)\n",
    "source_2_df.rename(columns={'Tweet Text': 'text', 'Sentiment': 'label'}, inplace=True)\n",
    "source_2_df\n",
    "\n"
   ]
  },
  {
   "cell_type": "code",
   "execution_count": 22,
   "metadata": {},
   "outputs": [
    {
     "data": {
      "text/html": [
       "<div>\n",
       "<style scoped>\n",
       "    .dataframe tbody tr th:only-of-type {\n",
       "        vertical-align: middle;\n",
       "    }\n",
       "\n",
       "    .dataframe tbody tr th {\n",
       "        vertical-align: top;\n",
       "    }\n",
       "\n",
       "    .dataframe thead th {\n",
       "        text-align: right;\n",
       "    }\n",
       "</style>\n",
       "<table border=\"1\" class=\"dataframe\">\n",
       "  <thead>\n",
       "    <tr style=\"text-align: right;\">\n",
       "      <th></th>\n",
       "      <th>text</th>\n",
       "      <th>label</th>\n",
       "    </tr>\n",
       "  </thead>\n",
       "  <tbody>\n",
       "    <tr>\n",
       "      <th>0</th>\n",
       "      <td>ruh roh someone first wife dancing right line ...</td>\n",
       "      <td>0</td>\n",
       "    </tr>\n",
       "    <tr>\n",
       "      <th>1</th>\n",
       "      <td>nice pre market move para pump call uncle buffett</td>\n",
       "      <td>1</td>\n",
       "    </tr>\n",
       "    <tr>\n",
       "      <th>2</th>\n",
       "      <td>investor low problem saying long term outlook ...</td>\n",
       "      <td>1</td>\n",
       "    </tr>\n",
       "    <tr>\n",
       "      <th>3</th>\n",
       "      <td>everyone knew would back deal tsla crashed alm...</td>\n",
       "      <td>0</td>\n",
       "    </tr>\n",
       "    <tr>\n",
       "      <th>4</th>\n",
       "      <td>sell everything buy tsla</td>\n",
       "      <td>1</td>\n",
       "    </tr>\n",
       "    <tr>\n",
       "      <th>...</th>\n",
       "      <td>...</td>\n",
       "      <td>...</td>\n",
       "    </tr>\n",
       "    <tr>\n",
       "      <th>495</th>\n",
       "      <td>nvda beautifully bullish</td>\n",
       "      <td>1</td>\n",
       "    </tr>\n",
       "    <tr>\n",
       "      <th>496</th>\n",
       "      <td>idra according topline data sln positivity rat...</td>\n",
       "      <td>1</td>\n",
       "    </tr>\n",
       "    <tr>\n",
       "      <th>497</th>\n",
       "      <td>replying newsofthemarket check idra auvi srrk ...</td>\n",
       "      <td>1</td>\n",
       "    </tr>\n",
       "    <tr>\n",
       "      <th>498</th>\n",
       "      <td>noticed clear trend past year newsfeed littere...</td>\n",
       "      <td>0</td>\n",
       "    </tr>\n",
       "    <tr>\n",
       "      <th>499</th>\n",
       "      <td>sleep</td>\n",
       "      <td>1</td>\n",
       "    </tr>\n",
       "  </tbody>\n",
       "</table>\n",
       "<p>500 rows × 2 columns</p>\n",
       "</div>"
      ],
      "text/plain": [
       "                                                  text  label\n",
       "0    ruh roh someone first wife dancing right line ...      0\n",
       "1    nice pre market move para pump call uncle buffett      1\n",
       "2    investor low problem saying long term outlook ...      1\n",
       "3    everyone knew would back deal tsla crashed alm...      0\n",
       "4                             sell everything buy tsla      1\n",
       "..                                                 ...    ...\n",
       "495                           nvda beautifully bullish      1\n",
       "496  idra according topline data sln positivity rat...      1\n",
       "497  replying newsofthemarket check idra auvi srrk ...      1\n",
       "498  noticed clear trend past year newsfeed littere...      0\n",
       "499                                              sleep      1\n",
       "\n",
       "[500 rows x 2 columns]"
      ]
     },
     "execution_count": 22,
     "metadata": {},
     "output_type": "execute_result"
    }
   ],
   "source": [
    "le = LabelEncoder()\n",
    "source_2_df['label'] = le.fit_transform(source_2_df['label'])\n",
    "\n",
    "source_2_df['text'] = source_2_df['text'].apply(pre_process)\n",
    "source_2_df"
   ]
  },
  {
   "cell_type": "code",
   "execution_count": 23,
   "metadata": {},
   "outputs": [
    {
     "data": {
      "text/html": [
       "<div>\n",
       "<style scoped>\n",
       "    .dataframe tbody tr th:only-of-type {\n",
       "        vertical-align: middle;\n",
       "    }\n",
       "\n",
       "    .dataframe tbody tr th {\n",
       "        vertical-align: top;\n",
       "    }\n",
       "\n",
       "    .dataframe thead th {\n",
       "        text-align: right;\n",
       "    }\n",
       "</style>\n",
       "<table border=\"1\" class=\"dataframe\">\n",
       "  <thead>\n",
       "    <tr style=\"text-align: right;\">\n",
       "      <th></th>\n",
       "      <th>text</th>\n",
       "      <th>label</th>\n",
       "    </tr>\n",
       "  </thead>\n",
       "  <tbody>\n",
       "    <tr>\n",
       "      <th>0</th>\n",
       "      <td>bynd jpmorgan reel expectation beyond meat</td>\n",
       "      <td>0</td>\n",
       "    </tr>\n",
       "    <tr>\n",
       "      <th>1</th>\n",
       "      <td>ccl rcl nomura point booking weakness carnival...</td>\n",
       "      <td>0</td>\n",
       "    </tr>\n",
       "    <tr>\n",
       "      <th>2</th>\n",
       "      <td>cemex cut credit suisse morgan weak building o...</td>\n",
       "      <td>0</td>\n",
       "    </tr>\n",
       "    <tr>\n",
       "      <th>3</th>\n",
       "      <td>es btig research cut neutral</td>\n",
       "      <td>0</td>\n",
       "    </tr>\n",
       "    <tr>\n",
       "      <th>4</th>\n",
       "      <td>fnko funko slide piper jaffray cut</td>\n",
       "      <td>0</td>\n",
       "    </tr>\n",
       "    <tr>\n",
       "      <th>...</th>\n",
       "      <td>...</td>\n",
       "      <td>...</td>\n",
       "    </tr>\n",
       "    <tr>\n",
       "      <th>12426</th>\n",
       "      <td>nvda beautifully bullish</td>\n",
       "      <td>1</td>\n",
       "    </tr>\n",
       "    <tr>\n",
       "      <th>12427</th>\n",
       "      <td>idra according topline data sln positivity rat...</td>\n",
       "      <td>1</td>\n",
       "    </tr>\n",
       "    <tr>\n",
       "      <th>12428</th>\n",
       "      <td>replying newsofthemarket check idra auvi srrk ...</td>\n",
       "      <td>1</td>\n",
       "    </tr>\n",
       "    <tr>\n",
       "      <th>12429</th>\n",
       "      <td>noticed clear trend past year newsfeed littere...</td>\n",
       "      <td>0</td>\n",
       "    </tr>\n",
       "    <tr>\n",
       "      <th>12430</th>\n",
       "      <td>sleep</td>\n",
       "      <td>1</td>\n",
       "    </tr>\n",
       "  </tbody>\n",
       "</table>\n",
       "<p>12431 rows × 2 columns</p>\n",
       "</div>"
      ],
      "text/plain": [
       "                                                    text  label\n",
       "0             bynd jpmorgan reel expectation beyond meat      0\n",
       "1      ccl rcl nomura point booking weakness carnival...      0\n",
       "2      cemex cut credit suisse morgan weak building o...      0\n",
       "3                           es btig research cut neutral      0\n",
       "4                     fnko funko slide piper jaffray cut      0\n",
       "...                                                  ...    ...\n",
       "12426                           nvda beautifully bullish      1\n",
       "12427  idra according topline data sln positivity rat...      1\n",
       "12428  replying newsofthemarket check idra auvi srrk ...      1\n",
       "12429  noticed clear trend past year newsfeed littere...      0\n",
       "12430                                              sleep      1\n",
       "\n",
       "[12431 rows x 2 columns]"
      ]
     },
     "execution_count": 23,
     "metadata": {},
     "output_type": "execute_result"
    }
   ],
   "source": [
    "source = pd.concat([source_1_df, source_2_df], ignore_index=True)\n",
    "source"
   ]
  },
  {
   "cell_type": "code",
   "execution_count": 24,
   "metadata": {},
   "outputs": [],
   "source": [
    "\n",
    "X_train, X_test, y_train, y_test = train_test_split(source['text'], source['label'], test_size=0.3, random_state=18)"
   ]
  },
  {
   "cell_type": "code",
   "execution_count": 25,
   "metadata": {},
   "outputs": [],
   "source": [
    "\n",
    "vectorizer = TfidfVectorizer(max_features=5000)\n",
    "X_train_vec = vectorizer.fit_transform(X_train)\n",
    "X_test_vec = vectorizer.transform(X_test)"
   ]
  },
  {
   "cell_type": "code",
   "execution_count": 26,
   "metadata": {},
   "outputs": [
    {
     "name": "stdout",
     "output_type": "stream",
     "text": [
      "Epoch 1/10\n",
      "136/136 [==============================] - 114s 811ms/step - loss: 0.7892 - accuracy: 0.6653 - val_loss: 0.6509 - val_accuracy: 0.7448\n",
      "Epoch 2/10\n",
      "136/136 [==============================] - 115s 846ms/step - loss: 0.4669 - accuracy: 0.8207 - val_loss: 0.5875 - val_accuracy: 0.7743\n",
      "Epoch 3/10\n",
      "136/136 [==============================] - 116s 850ms/step - loss: 0.3110 - accuracy: 0.8868 - val_loss: 0.6730 - val_accuracy: 0.7713\n",
      "Epoch 4/10\n",
      "136/136 [==============================] - 109s 802ms/step - loss: 0.2335 - accuracy: 0.9145 - val_loss: 0.7957 - val_accuracy: 0.7617\n",
      "Epoch 5/10\n",
      "136/136 [==============================] - 104s 764ms/step - loss: 0.1789 - accuracy: 0.9354 - val_loss: 0.9314 - val_accuracy: 0.7582\n",
      "Epoch 6/10\n",
      "136/136 [==============================] - 111s 814ms/step - loss: 0.1360 - accuracy: 0.9530 - val_loss: 1.0636 - val_accuracy: 0.7483\n",
      "Epoch 7/10\n",
      "136/136 [==============================] - 88s 648ms/step - loss: 0.1081 - accuracy: 0.9621 - val_loss: 1.2026 - val_accuracy: 0.7547\n",
      "Epoch 8/10\n",
      "136/136 [==============================] - 89s 654ms/step - loss: 0.0862 - accuracy: 0.9723 - val_loss: 1.2661 - val_accuracy: 0.7381\n",
      "Epoch 9/10\n",
      "136/136 [==============================] - 88s 643ms/step - loss: 0.0725 - accuracy: 0.9759 - val_loss: 1.3744 - val_accuracy: 0.7531\n",
      "Epoch 10/10\n",
      "136/136 [==============================] - 88s 647ms/step - loss: 0.0707 - accuracy: 0.9762 - val_loss: 1.2362 - val_accuracy: 0.7413\n",
      "117/117 [==============================] - 6s 48ms/step - loss: 1.2362 - accuracy: 0.7413\n",
      "Test Loss: 1.2362122535705566\n",
      "Test Accuracy: 0.7412868738174438\n",
      "117/117 [==============================] - 6s 46ms/step\n",
      "              precision    recall  f1-score   support\n",
      "\n",
      "           0       0.53      0.56      0.54       560\n",
      "           1       0.65      0.64      0.64       859\n",
      "           2       0.83      0.82      0.83      2311\n",
      "\n",
      "    accuracy                           0.74      3730\n",
      "   macro avg       0.67      0.67      0.67      3730\n",
      "weighted avg       0.74      0.74      0.74      3730\n",
      "\n",
      "[[ 312   80  168]\n",
      " [  89  553  217]\n",
      " [ 187  224 1900]]\n"
     ]
    },
    {
     "data": {
      "image/png": "[encoded data removed]",
      "text/plain": [
       "<Figure size 1200x400 with 2 Axes>"
      ]
     },
     "metadata": {},
     "output_type": "display_data"
    }
   ],
   "source": [
    "tokenizer = Tokenizer(num_words=5000)\n",
    "tokenizer.fit_on_texts(source['text'])\n",
    "X_train_seq = tokenizer.texts_to_sequences(X_train)\n",
    "X_test_seq = tokenizer.texts_to_sequences(X_test)\n",
    "\n",
    "X_train_pad = pad_sequences(X_train_seq, maxlen=100)\n",
    "X_test_pad = pad_sequences(X_test_seq, maxlen=100)\n",
    "\n",
    "model = Sequential()\n",
    "model.add(Embedding(5000, 128, input_length=100))\n",
    "model.add(LSTM(128, dropout=0.2, recurrent_dropout=0.2))\n",
    "model.add(Dense(3, activation='softmax')) \n",
    "model.compile(loss='sparse_categorical_crossentropy', optimizer='adam', metrics=['accuracy'])\n",
    "history = model.fit(X_train_pad, y_train, epochs=10, batch_size=64, validation_data=(X_test_pad, y_test))\n",
    "\n",
    "loss, accuracy = model.evaluate(X_test_pad, y_test)\n",
    "print(f'Test Loss: {loss}')\n",
    "print(f'Test Accuracy: {accuracy}')\n",
    "\n",
    "y_pred = model.predict(X_test_pad)\n",
    "y_pred_classes = y_pred.argmax(axis=1)\n",
    "\n",
    "print(classification_report(y_test, y_pred_classes))\n",
    "\n",
    "# Print confusion matrix\n",
    "print(confusion_matrix(y_test, y_pred_classes))\n",
    "\n",
    "# Plotting training & validation accuracy values\n",
    "plt.figure(figsize=(12, 4))\n",
    "plt.subplot(1, 2, 1)\n",
    "plt.plot(history.history['accuracy'])\n",
    "plt.plot(history.history['val_accuracy'])\n",
    "plt.title('Model accuracy')\n",
    "plt.xlabel('Epoch')\n",
    "plt.ylabel('Accuracy')\n",
    "plt.legend(['Train', 'Validation'], loc='upper left')\n",
    "\n",
    "# Plotting training & validation loss values\n",
    "plt.subplot(1, 2, 2)\n",
    "plt.plot(history.history['loss'])\n",
    "plt.plot(history.history['val_loss'])\n",
    "plt.title('Model loss')\n",
    "plt.xlabel('Epoch')\n",
    "plt.ylabel('Loss')\n",
    "plt.legend(['Train', 'Validation'], loc='upper left')\n",
    "\n",
    "plt.show()"
   ]
  },
  {
   "cell_type": "code",
   "execution_count": 27,
   "metadata": {},
   "outputs": [
    {
     "name": "stdout",
     "output_type": "stream",
     "text": [
      "22/22 [==============================] - 1s 44ms/step\n",
      "                                               Summary  Predicted_Label\n",
      "0    world best performing tech stock bled average ...                2\n",
      "1    leading cryptocurrencies edged lower tuesday b...                2\n",
      "2    advanced micro device inc amd witnessed signif...                1\n",
      "3    deepwater asset management managing partner ge...                1\n",
      "4                        high time pounce nvidia stock                2\n",
      "..                                                 ...              ...\n",
      "678  apple face scrutiny european union potentially...                2\n",
      "679  logitech logi expands music related device por...                1\n",
      "680  sirius siri expands content andy richter call ...                2\n",
      "681  amazon com inc amzn stock hit dazzling new mil...                2\n",
      "682  taiwan semiconductor manufacturing tsm receive...                2\n",
      "\n",
      "[683 rows x 2 columns]\n"
     ]
    }
   ],
   "source": [
    "new_texts = summaries_df['Summary'].tolist()\n",
    "\n",
    "new_texts_seq = tokenizer.texts_to_sequences(new_texts)\n",
    "new_texts_pad = pad_sequences(new_texts_seq, maxlen=100)\n",
    "\n",
    "# Make predictions\n",
    "predictions = model.predict(new_texts_pad)\n",
    "predicted_classes = predictions.argmax(axis=1)\n",
    "\n",
    "summaries_df['Predicted_Label'] = predicted_classes\n",
    "\n",
    "print(summaries_df)"
   ]
  },
  {
   "cell_type": "code",
   "execution_count": 28,
   "metadata": {},
   "outputs": [
    {
     "name": "stdout",
     "output_type": "stream",
     "text": [
      "Bearish Count: 71\n",
      "Bullish Count: 195\n",
      "Neutral Count: 417\n"
     ]
    }
   ],
   "source": [
    "sentiments = {0: \"Bearish\", 1: \"Bullish\", 2: \"Neutral\"}\n",
    "summaries_df['Sentiment'] = summaries_df['Predicted_Label'].map(sentiments)\n",
    "bearish_count = sum(summaries_df['Predicted_Label'] == 0)  # Bearish\n",
    "bullish_count = sum(summaries_df['Predicted_Label'] == 1)  # Bullish\n",
    "neutral_count = sum(summaries_df['Predicted_Label'] == 2)  # Neutral\n",
    "feature_vector = [bearish_count, bullish_count, neutral_count]\n",
    "print(f'Bearish Count: {bearish_count}')\n",
    "print(f'Bullish Count: {bullish_count}')\n",
    "print(f'Neutral Count: {neutral_count}')"
   ]
  },
  {
   "cell_type": "code",
   "execution_count": 29,
   "metadata": {},
   "outputs": [],
   "source": [
    "def make_decision(bullish, bearish, neutral):\n",
    "    total = bullish + bearish + neutral\n",
    "    if bullish > 0.6 * total:\n",
    "        return 'Buy'\n",
    "    elif bearish > 0.6 * total:\n",
    "        return 'Sell'\n",
    "    else:\n",
    "        return 'Hold'"
   ]
  },
  {
   "cell_type": "code",
   "execution_count": 30,
   "metadata": {},
   "outputs": [
    {
     "name": "stdout",
     "output_type": "stream",
     "text": [
      "Decision for AAPL: Hold\n"
     ]
    }
   ],
   "source": [
    "decision = make_decision(bullish_count, bearish_count, neutral_count)\n",
    "print(f'Decision for {ticker}: {decision}')"
   ]
  },
  {
   "cell_type": "code",
   "execution_count": null,
   "metadata": {},
   "outputs": [],
   "source": []
  }
 ],
 "metadata": {
  "kernelspec": {
   "display_name": "base",
   "language": "python",
   "name": "python3"
  },
  "language_info": {
   "codemirror_mode": {
    "name": "ipython",
    "version": 3
   },
   "file_extension": ".py",
   "mimetype": "text/x-python",
   "name": "python",
   "nbconvert_exporter": "python",
   "pygments_lexer": "ipython3",
   "version": "3.9.13"
  }
 },
 "nbformat": 4,
 "nbformat_minor": 2
}
