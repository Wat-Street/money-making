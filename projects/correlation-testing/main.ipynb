{
 "cells": [
  {
   "cell_type": "code",
   "execution_count": null,
   "id": "c581bc3e",
   "metadata": {},
   "outputs": [],
   "source": [
    "# need to install ipykernal\n",
    "\n",
    "from datetime import datetime\n",
    "import time\n",
    "from analysis.data_loader import load_pair_data\n",
    "from analysis.visualizer import plot_lagged_correlation\n",
    "from analysis.pairs import research_pairs"
   ]
  },
  {
   "cell_type": "code",
   "execution_count": null,
   "id": "9fd4acc6",
   "metadata": {},
   "outputs": [],
   "source": [
    "start_date = \"2020-01-01\" # approx 5 years but we can change this later\n",
    "end_date = datetime.today().strftime(\"%Y-%m-%d\")"
   ]
  },
  {
   "cell_type": "code",
   "execution_count": null,
   "id": "529913a2",
   "metadata": {},
   "outputs": [],
   "source": [
    "print(f\"Starting correlation analysis from {start_date} to {end_date}\")\n",
    "print(f\"Processing {len(research_pairs)} pairs...\")\n",
    "success = 0\n",
    "\n",
    "for i, (ticker_a, ticker_b) in enumerate(research_pairs, 1):\n",
    "    print(f\"\\n{'='*50}\")\n",
    "    print(f\"Processing pair {i}/{len(research_pairs)}: {ticker_a} & {ticker_b}\")\n",
    "    print(f\"{'='*50}\")\n",
    "\n",
    "    try:\n",
    "        df = load_pair_data(ticker_a, ticker_b, start_date, end_date, cache=True)\n",
    "        if df.empty:\n",
    "            print(f\"❌ No data for {ticker_a} and {ticker_b}\")\n",
    "            continue\n",
    "\n",
    "        print(f\"✅ Successfully loaded data for {ticker_a}-{ticker_b} \")\n",
    "        plot_lagged_correlation(ticker_a, ticker_b, df, max_lag=10, save=True)\n",
    "        success += 1\n",
    "    \n",
    "    except Exception as e:\n",
    "        print(f\"❌ Error processing {ticker_a} and {ticker_b}: {e}\")\n",
    "        continue\n",
    "    \n",
    "    # Stagger API calls for stability\n",
    "    if i < len(research_pairs):\n",
    "        print(\"Waiting 2 seconds before next pair...\")\n",
    "        time.sleep(2)"
   ]
  },
  {
   "cell_type": "code",
   "execution_count": null,
   "id": "25fc6a3b",
   "metadata": {},
   "outputs": [],
   "source": [
    "print(f\"\\n{'='*50}\")\n",
    "print(f\"Successfully processed: {success}/{len(research_pairs)} pairs\")\n",
    "print(f\"{'='*50}\")"
   ]
  }
 ],
 "metadata": {
  "kernelspec": {
   "display_name": ".venv",
   "language": "python",
   "name": "python3"
  },
  "language_info": {
   "codemirror_mode": {
    "name": "ipython",
    "version": 3
   },
   "file_extension": ".py",
   "mimetype": "text/x-python",
   "name": "python",
   "nbconvert_exporter": "python",
   "pygments_lexer": "ipython3",
   "version": "3.9.6"
  }
 },
 "nbformat": 4,
 "nbformat_minor": 5
}
